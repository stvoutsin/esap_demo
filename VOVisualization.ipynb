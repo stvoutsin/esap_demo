{
 "cells": [
  {
   "cell_type": "markdown",
   "metadata": {},
   "source": [
    "<h1>Workflow for plotting and visualizing data from the ESAP shopping basket (WSRT-Apertif)</h1>"
   ]
  },
  {
   "cell_type": "code",
   "execution_count": null,
   "metadata": {},
   "outputs": [],
   "source": [
    "from astropy.coordinates import SkyCoord\n",
    "from hips import WCSGeometry, make_sky_image\n",
    "from hips import HipsSurveyProperties\n",
    "from ipywidgets import Layout, Box, widgets\n",
    "from shopping_client import shopping_client\n",
    "import pyvo\n",
    "import pandas as pd\n",
    "import matplotlib.pyplot as plt\n",
    "import astroquery"
   ]
  },
  {
   "cell_type": "markdown",
   "metadata": {},
   "source": [
    "<h2>Fetching data from the ESAP Shopping basket</h2>"
   ]
  },
  {
   "cell_type": "markdown",
   "metadata": {},
   "source": [
    "<hr>"
   ]
  },
  {
   "cell_type": "code",
   "execution_count": null,
   "metadata": {},
   "outputs": [],
   "source": [
    "# Instantiate alta connector\n",
    "from alta import alta_connector\n",
    "ac = alta_connector()\n",
    "\n",
    "# Instantiate ESAP User Profile shopping client, passing alta connector\n",
    "shoppingClient = shopping_client(host=\"https://sdc-dev.astron.nl:443/\", connectors=[ac])\n"
   ]
  },
  {
   "cell_type": "code",
   "execution_count": null,
   "metadata": {},
   "outputs": [],
   "source": [
    "# Get data from the shopping basket as a Pandas Dataframe\n",
    "basket = shoppingClient.get_basket(convert_to_pandas=True)\n"
   ]
  },
  {
   "cell_type": "code",
   "execution_count": null,
   "metadata": {},
   "outputs": [],
   "source": [
    "# Store data as a single Pandas Dataframe\n",
    "alta_records = list(basket[\"alta\"][\"record\"])\n",
    "df = pd.DataFrame(alta_records)\n"
   ]
  },
  {
   "cell_type": "code",
   "execution_count": null,
   "metadata": {},
   "outputs": [],
   "source": [
    "# Show dataframe\n",
    "df"
   ]
  },
  {
   "cell_type": "code",
   "execution_count": null,
   "metadata": {},
   "outputs": [],
   "source": [
    "# Store data as an astropy table\n",
    "from astropy.table import Table\n",
    "astropy_table = Table.from_pandas(df)    "
   ]
  },
  {
   "cell_type": "markdown",
   "metadata": {},
   "source": [
    "<hr>"
   ]
  },
  {
   "cell_type": "markdown",
   "metadata": {},
   "source": [
    "# Visualization (Plotting)"
   ]
  },
  {
   "cell_type": "markdown",
   "metadata": {},
   "source": [
    "## Scatter Plot using Matplotlib"
   ]
  },
  {
   "cell_type": "code",
   "execution_count": null,
   "metadata": {},
   "outputs": [],
   "source": [
    "%matplotlib notebook\n",
    "from ipywidgets import *\n",
    "import numpy as np\n",
    "import matplotlib.pyplot as plt\n",
    "\n",
    "x = astropy_table[\"RA\"]\n",
    "y = astropy_table[\"dec\"]\n",
    "fig = plt.figure()\n",
    "ax = fig.add_subplot(1, 1, 1)\n",
    "line = ax.scatter(x, y)\n",
    "\n",
    "plt.xlabel(\"$ra$\", fontsize=20)\n",
    "plt.ylabel(\"$decl$\", fontsize=20)\n",
    "\n",
    "def update(w = 1.0):\n",
    "    fig.canvas.draw()\n",
    "\n",
    "interact(update);"
   ]
  },
  {
   "cell_type": "code",
   "execution_count": null,
   "metadata": {},
   "outputs": [],
   "source": [
    "from plotly import __version__\n",
    "from plotly.offline import download_plotlyjs, init_notebook_mode, plot, iplot\n",
    "from plotly.graph_objs import *\n",
    "import plotly.graph_objs as go\n",
    "\n",
    "import numpy as np\n",
    "\n",
    "init_notebook_mode() # Important"
   ]
  },
  {
   "cell_type": "code",
   "execution_count": null,
   "metadata": {},
   "outputs": [],
   "source": [
    "## Scatter Plot using Plotly"
   ]
  },
  {
   "cell_type": "code",
   "execution_count": null,
   "metadata": {},
   "outputs": [],
   "source": [
    "\n",
    "N = 100000\n",
    "trace = go.Scattergl(\n",
    "    x = astropy_table[\"RA\"],\n",
    "    y = astropy_table[\"dec\"],\n",
    "    mode = 'markers',\n",
    "    marker = dict(\n",
    "        color = '#FFBAD2',\n",
    "        line = dict(width = 1)\n",
    "    )\n",
    ")\n",
    "data = [trace]\n",
    "iplot(data, filename='compare_webgl')"
   ]
  },
  {
   "cell_type": "markdown",
   "metadata": {},
   "source": [
    "## 3d Plot using Plotly"
   ]
  },
  {
   "cell_type": "code",
   "execution_count": null,
   "metadata": {},
   "outputs": [],
   "source": [
    "x, y, z = np.random.multivariate_normal(np.array([0,0,0]), np.eye(3), 200).transpose()\n",
    "trace1 = go.Scatter3d(\n",
    "    x=astropy_table[\"RA\"],\n",
    "    y=astropy_table[\"dec\"],\n",
    "    z=astropy_table[\"fov\"],\n",
    "    mode='markers',\n",
    "    marker=dict(\n",
    "        size=12,\n",
    "        line=dict(\n",
    "            color='rgba(217, 217, 217, 0.14)',\n",
    "            width=0.5\n",
    "        ),\n",
    "        opacity=0.8\n",
    "    )\n",
    ")\n",
    "\n",
    "data = [trace1]\n",
    "layout = go.Layout(\n",
    "    margin=dict(\n",
    "        l=0,\n",
    "        r=0,\n",
    "        b=0,\n",
    "        t=0\n",
    "    )\n",
    ")\n",
    "fig = go.Figure(data=data, layout=layout)\n",
    "iplot(fig, filename='simple-3d-scatter')"
   ]
  },
  {
   "cell_type": "markdown",
   "metadata": {},
   "source": [
    "<hr>"
   ]
  },
  {
   "cell_type": "markdown",
   "metadata": {},
   "source": [
    "# Visualization with Aladin Lite"
   ]
  },
  {
   "cell_type": "markdown",
   "metadata": {},
   "source": [
    "## Visualize points in the sky"
   ]
  },
  {
   "cell_type": "code",
   "execution_count": null,
   "metadata": {},
   "outputs": [],
   "source": [
    "import ipyaladin as ipyal"
   ]
  },
  {
   "cell_type": "code",
   "execution_count": null,
   "metadata": {},
   "outputs": [],
   "source": [
    "aladin=ipyal.Aladin(target='14 49 4.874 +52 02 9.05', fov=180)\n",
    "aladin"
   ]
  },
  {
   "cell_type": "code",
   "execution_count": null,
   "metadata": {},
   "outputs": [],
   "source": [
    "aladin.add_table(astropy_table)\n"
   ]
  },
  {
   "cell_type": "markdown",
   "metadata": {},
   "source": [
    "## Linked Aladin Lite Views\n"
   ]
  },
  {
   "cell_type": "code",
   "execution_count": null,
   "metadata": {},
   "outputs": [],
   "source": [
    "# In the following cells, we create 3 linked views of the sky from different surveys & we plot the data points on each one"
   ]
  },
  {
   "cell_type": "code",
   "execution_count": null,
   "metadata": {},
   "outputs": [],
   "source": [
    "from ipywidgets import Layout, Box, widgets\n",
    "a = ipyal.Aladin(layout=Layout(width='33.33%'), target='14 49 4.874 +52 02 9.05', fov=180)\n",
    "b = ipyal.Aladin(layout=Layout(width='33.33%'), survey='P/DSS2/red')\n",
    "c = ipyal.Aladin(layout=Layout(width='33.33%'), survey='P/2MASS/color')\n",
    "\n",
    "# synchronize target between 3 widgets\n",
    "widgets.jslink((a, 'target'), (b, 'target'))\n",
    "widgets.jslink((b, 'target'), (c, 'target'))\n",
    "\n",
    "# synchronize FoV (zoom level) between 3 widgets\n",
    "widgets.jslink((a, 'fov'), (b, 'fov'))\n",
    "widgets.jslink((b, 'fov'), (c, 'fov'))\n",
    "\n",
    "items = [a, b, c]\n",
    "\n",
    "\n",
    "\n",
    "box_layout = Layout(display='flex',\n",
    "                    flex_flow='row',\n",
    "                    align_items='stretch',\n",
    "                    border='solid',\n",
    "                    width='100%')\n",
    "box = Box(children=items, layout=box_layout)\n",
    "box\n"
   ]
  },
  {
   "cell_type": "code",
   "execution_count": null,
   "metadata": {},
   "outputs": [],
   "source": [
    "# Add the table to the views\n",
    "a.add_table(astropy_table)\n",
    "b.add_table(astropy_table)\n",
    "c.add_table(astropy_table)"
   ]
  },
  {
   "cell_type": "markdown",
   "metadata": {},
   "source": [
    "## Using Aladin Lite to get light curves of objects (using CDS  & TAP)\n"
   ]
  },
  {
   "cell_type": "code",
   "execution_count": null,
   "metadata": {},
   "outputs": [],
   "source": [
    "aladin = ipyal.Aladin(layout=Layout(width='70%'), target='M 36', fov=0.3)\n",
    "info = widgets.HTML()\n",
    "\n",
    "\n",
    "box_layout = Layout(display='flex',\n",
    "                    flex_flow='row',\n",
    "                    align_items='stretch',\n",
    "                    width='100%')\n",
    "box = Box(children=[aladin, info], layout=box_layout)\n",
    "box"
   ]
  },
  {
   "cell_type": "code",
   "execution_count": null,
   "metadata": {},
   "outputs": [],
   "source": [
    "aladin.add_table(astropy_table)\n"
   ]
  },
  {
   "cell_type": "code",
   "execution_count": null,
   "metadata": {},
   "outputs": [],
   "source": [
    "\n",
    "import requests\n",
    "def process_result(data):\n",
    "    info.value = ''\n",
    "    ra = data['ra']\n",
    "    dec = data['dec']\n",
    "    radius = min(aladin.fov / 10, 5)\n",
    "    query = \"\"\"SELECT TOP 1 main_id, ra, dec, DISTANCE(POINT('ICRS', %f, %f), POINT('ICRS', ra, dec)) as d FROM basic\n",
    "               WHERE CONTAINS(POINT('ICRS', ra, dec), CIRCLE('ICRS', %f, %f, %f))=1\n",
    "               ORDER BY d ASC\"\"\" % (ra, dec, ra, dec, aladin.fov / 10)\n",
    "    \n",
    "    r = requests.get('http://simbad.u-strasbg.fr/simbad/sim-tap/sync', params={'query': query, 'request': 'doQuery', 'lang': 'adql', 'format': 'json', 'phase': 'run'})\n",
    "    obj_name = ''\n",
    "    obj_coo = None\n",
    "    obj_data = r.json()['data']\n",
    "    if len(obj_data)==0:\n",
    "        return\n",
    "    \n",
    "    obj_name = obj_data[0][0]\n",
    "    obj_coo = [obj_data[0][1], obj_data[0][2]]\n",
    "    sed_img = '<img src=\"http://cdsportal.u-strasbg.fr/cgi-bin/PhotVizPreview/plot?ra=%f&dec=%f&radius_arcsec=5&w=200&h=150&point_size=4\">' % (obj_coo[0], obj_coo[1])\n",
    "    info.value =  '<h2>%s</h2><br><br>%s' % (obj_name, sed_img)\n",
    "    \n",
    "aladin.add_listener('click', process_result)\n"
   ]
  },
  {
   "cell_type": "markdown",
   "metadata": {},
   "source": [
    "## Using Aladin Lite to get metadata on objects (Single object or Selection)\n"
   ]
  },
  {
   "cell_type": "code",
   "execution_count": null,
   "metadata": {},
   "outputs": [],
   "source": [
    "\n",
    "from ipyaladin import Aladin\n",
    "from ipywidgets import Layout, Box, widgets\n",
    "\n",
    "aladin = Aladin(layout=Layout(width='50%'), target='14 44 11.932 +46 15 32.69', fov=180,survey='http://surveys.roe.ac.uk/hips71/LAS/LAS_Y_OUT//properties')\n",
    "\n",
    "button = widgets.Button(description=\"Select\")\n",
    "def on_button_clicked(b):\n",
    "    aladin.rectangular_selection()\n",
    "\n",
    "button.on_click(on_button_clicked)\n",
    "table_info = widgets.HTML(layout=Layout(height='auto', overflow='auto'))\n",
    "\n",
    "\n",
    "box_layout = Layout(display='flex',\n",
    "                    flex_flow='row',\n",
    "                    align_items='stretch',\n",
    "                    width='100%',\n",
    "                    position='relative',\n",
    "                    overflow='hidden',\n",
    "                    height='100vh',\n",
    "                    margin='-100px 0 0 0',\n",
    "                    padding='100px 0 0 0 '\n",
    "                   )\n",
    "box = Box(children=[aladin, button, table_info], layout=box_layout)\n",
    "box"
   ]
  },
  {
   "cell_type": "code",
   "execution_count": null,
   "metadata": {},
   "outputs": [],
   "source": [
    "from astroquery.simbad import Simbad\n",
    "import astropy.units as u\n",
    "\n",
    "aladin.add_table(astropy_table)\n",
    "\n",
    "def process_result(sources):\n",
    "    s = '<table border=\"1\">'\n",
    "    s += '<tr><th>RA</th><th>DEC</th></tr>'\n",
    "    for source in sources:\n",
    "        s += '<tr><td>%s</td><td>%s</td></tr>' % ( source['data']['RA'], source['data']['dec'])\n",
    "    s += '</table>'\n",
    "    table_info.value = s\n",
    "    \n",
    "aladin.add_listener('select', process_result)"
   ]
  }
 ],
 "metadata": {
  "kernelspec": {
   "display_name": "Python 3",
   "language": "python",
   "name": "python3"
  },
  "language_info": {
   "codemirror_mode": {
    "name": "ipython",
    "version": 3
   },
   "file_extension": ".py",
   "mimetype": "text/x-python",
   "name": "python",
   "nbconvert_exporter": "python",
   "pygments_lexer": "ipython3",
   "version": "3.7.10"
  }
 },
 "nbformat": 4,
 "nbformat_minor": 2
}
