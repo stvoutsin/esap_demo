{
 "cells": [
  {
   "cell_type": "markdown",
   "metadata": {
    "toc": "true"
   },
   "source": [
    "# Table of Contents\n",
    " <p><div class=\"lev1 toc-item\"><a href=\"#Load-Classification-data\" data-toc-modified-id=\"Load-Classification-data-1\"><span class=\"toc-item-num\">1&nbsp;&nbsp;</span>Load Classification data</a></div><div class=\"lev1 toc-item\"><a href=\"#Process-classification-data\" data-toc-modified-id=\"Process-classification-data-2\"><span class=\"toc-item-num\">2&nbsp;&nbsp;</span>Process classification data</a></div><div class=\"lev2 toc-item\"><a href=\"#Isolate-classifications-since-the-project-went-live\" data-toc-modified-id=\"Isolate-classifications-since-the-project-went-live-21\"><span class=\"toc-item-num\">2.1&nbsp;&nbsp;</span>Isolate classifications since the project went live</a></div><div class=\"lev2 toc-item\"><a href=\"#Initialize-arrays-to-store-parsed-data\" data-toc-modified-id=\"Initialize-arrays-to-store-parsed-data-22\"><span class=\"toc-item-num\">2.2&nbsp;&nbsp;</span>Initialize arrays to store parsed data</a></div><div class=\"lev2 toc-item\"><a href=\"#Extract-annotation-data\" data-toc-modified-id=\"Extract-annotation-data-23\"><span class=\"toc-item-num\">2.3&nbsp;&nbsp;</span>Extract annotation data</a></div><div class=\"lev2 toc-item\"><a href=\"#Store-extracted-data\" data-toc-modified-id=\"Store-extracted-data-24\"><span class=\"toc-item-num\">2.4&nbsp;&nbsp;</span>Store extracted data</a></div><div class=\"lev1 toc-item\"><a href=\"#Plot-some-of-the-muon-ring-properties\" data-toc-modified-id=\"Plot-some-of-the-muon-ring-properties-3\"><span class=\"toc-item-num\">3&nbsp;&nbsp;</span>Plot some of the muon ring properties</a></div><div class=\"lev2 toc-item\"><a href=\"#First-in-SVG-Space.\" data-toc-modified-id=\"First-in-SVG-Space.-31\"><span class=\"toc-item-num\">3.1&nbsp;&nbsp;</span>First in SVG Space.</a></div><div class=\"lev2 toc-item\"><a href=\"#Now-in-angular-camera-coordinates\" data-toc-modified-id=\"Now-in-angular-camera-coordinates-32\"><span class=\"toc-item-num\">3.2&nbsp;&nbsp;</span>Now in angular camera coordinates</a></div>"
   ]
  },
  {
   "cell_type": "code",
   "execution_count": null,
   "metadata": {},
   "outputs": [],
   "source": [
    "import json\n",
    "import getpass\n",
    "import io\n",
    "import pandas as pd\n",
    "import numpy as np\n",
    "import matplotlib\n",
    "import matplotlib.pyplot as mplplot\n",
    "%matplotlib inline\n",
    "from IPython.core.display import display"
   ]
  },
  {
   "cell_type": "markdown",
   "metadata": {},
   "source": [
    "## ESAP and Zooniverse Clients\n",
    "Change the next cell from \"raw\" to \"code\" to install the clients on a new instance."
   ]
  },
  {
   "cell_type": "raw",
   "metadata": {},
   "source": [
    "!python -m pip install -U git+https://git.astron.nl/astron-sdc/esap-userprofile-python-client.git"
   ]
  },
  {
   "cell_type": "code",
   "execution_count": null,
   "metadata": {},
   "outputs": [],
   "source": [
    "from shopping_client import shopping_client\n",
    "from zooniverse import zooniverse\n",
    "from panoptes_client import Subject"
   ]
  },
  {
   "cell_type": "markdown",
   "metadata": {},
   "source": [
    "## Example: Retrieve my saved shopping"
   ]
  },
  {
   "cell_type": "code",
   "execution_count": null,
   "metadata": {},
   "outputs": [],
   "source": [
    "zooniverseUsername = input(\"Enter Zooniverse account username: \")\n",
    "zooniversePassword = getpass.getpass(\"Enter Zooniverse account password: \")\n",
    "zooniverseConnector = zooniverse(username=zooniverseUsername, password=zooniversePassword)\n",
    "shoppingClient = shopping_client(host=\"https://sdc-dev.astron.nl:443/\", connectors=[zooniverseConnector])\n",
    "basket = shoppingClient.get_basket(convert_to_pandas=True)\n",
    "basket"
   ]
  },
  {
   "cell_type": "markdown",
   "metadata": {},
   "source": [
    "Render basket `DataFrame` nicely."
   ]
  },
  {
   "cell_type": "code",
   "execution_count": null,
   "metadata": {},
   "outputs": [],
   "source": [
    "basket[\"zooniverse\"]"
   ]
  },
  {
   "cell_type": "markdown",
   "metadata": {},
   "source": [
    "Select an item of interest."
   ]
  },
  {
   "cell_type": "code",
   "execution_count": null,
   "metadata": {},
   "outputs": [],
   "source": [
    "item = basket[\"zooniverse\"].iloc[0]\n",
    "item"
   ]
  },
  {
   "cell_type": "markdown",
   "metadata": {},
   "source": [
    "## Example: Analysing some data from the Muon Hunter Zooniverse project\n",
    "Create a dummy basket item for Muon Hunter classifications."
   ]
  },
  {
   "cell_type": "code",
   "execution_count": null,
   "metadata": {},
   "outputs": [],
   "source": [
    "item = pd.Series(json.loads({\"item_data\":'{\"archive\":\"zooniverse\",\"catalog\":\"workflow\",\"project_id\":\"3098\",\"workflow_id\":\"2473\",\"category\":\"classifications\"}'}[\"item_data\"]))"
   ]
  },
  {
   "cell_type": "code",
   "execution_count": null,
   "metadata": {},
   "outputs": [],
   "source": [
    "item"
   ]
  },
  {
   "cell_type": "code",
   "execution_count": null,
   "metadata": {},
   "outputs": [],
   "source": [
    "if zooniverseConnector.is_available(item):\n",
    "    print(\"Item is available\")\n",
    "else:\n",
    "    print(\"Retrieval Failed\")"
   ]
  },
  {
   "cell_type": "markdown",
   "metadata": {},
   "source": [
    "# Load Classification data\n",
    "Use `pandas` for data manipulation.\n",
    "\n",
    "### Workaround for low-memory environments\n",
    "The full classification set for Muon Hunter contains millions of rows. For this example, to limit the memory footprint of retrieving the data we'll retrieve it in chunks of 100 rows and only retrieve $10^{5}$ rows in total."
   ]
  },
  {
   "cell_type": "code",
   "execution_count": null,
   "metadata": {},
   "outputs": [],
   "source": [
    "classificationDataFrame = zooniverseConnector.retrieve(item, \n",
    "                                                       generate=False, \n",
    "                                                       wait=True, \n",
    "                                                       convert_to_pandas=True,\n",
    "                                                       chunked_retrieve=True, \n",
    "                                                       chunk_size=1000, \n",
    "                                                       nrows=int(1e5))"
   ]
  },
  {
   "cell_type": "markdown",
   "metadata": {},
   "source": [
    "Save a local copy of the data."
   ]
  },
  {
   "cell_type": "code",
   "execution_count": null,
   "metadata": {},
   "outputs": [],
   "source": [
    "classificationDataFrame.to_pickle(\"muonHunterJustInCase.pkl\")"
   ]
  },
  {
   "cell_type": "markdown",
   "metadata": {},
   "source": [
    "###  Retrieved data"
   ]
  },
  {
   "cell_type": "code",
   "execution_count": null,
   "metadata": {},
   "outputs": [],
   "source": [
    "classificationDataFrame"
   ]
  },
  {
   "cell_type": "markdown",
   "metadata": {},
   "source": [
    "# Process classification data\n",
    "## Isolate classifications since the project went live"
   ]
  },
  {
   "cell_type": "code",
   "execution_count": null,
   "metadata": {
    "jupyter": {
     "outputs_hidden": true
    }
   },
   "outputs": [],
   "source": [
    "annotationsAndSubjects = classificationDataFrame[\n",
    "    (classificationDataFrame.created_at > \"2017-01-23T00:00:00.00Z\") & \n",
    "    (classificationDataFrame.workflow_id == 2473)][['annotations', 'subject_ids', 'subject_data']]"
   ]
  },
  {
   "cell_type": "markdown",
   "metadata": {},
   "source": [
    "## Initialize arrays to store parsed data\n",
    "Extracted data are:\n",
    "1. The subject IDs - These can be used to reference the original events.\n",
    "2. The ring indices - Some classifiers may have drawn multiple rings for the same subject - in this case the ring index enumerates those multiple rings (`int` or `NaN`)\n",
    "3. The geometrical properties of each ring:\n",
    "    1. The ring centre coordinates (`float` or `NaN`)\n",
    "    2. The ring radius (`float` or `NaN`)\n",
    "    3. The ring angle - this is superflous, since the ring is circular(`float` or `NaN`).\n",
    "4. The camera containment of each ring:\n",
    "    1. Whether the ring is fully contained within the camera (`Boolean`).\n",
    "    2. Whether the portion of the ring in the camera is complete (`Boolean`).\n",
    "5. The initial classification of the subject - derived from the filename:\n",
    "    1. Whether the initial classification was *Muon* (`Boolean`).\n",
    "    2. Whether the initial classification was *Non-Muon* (`Boolean`).\n",
    "    3. Whether the initial classification was *Ambiguous* (`Boolean`).\n",
    "6. The filename (`str`)."
   ]
  },
  {
   "cell_type": "code",
   "execution_count": null,
   "metadata": {
    "jupyter": {
     "outputs_hidden": true
    }
   },
   "outputs": [],
   "source": [
    "parsedAnnotations = []\n",
    "subjectIds = []\n",
    "ringIndices = []\n",
    "ringPresent = []\n",
    "ringCentre = []\n",
    "ringRadius = []\n",
    "ringAngle = []\n",
    "containedRing = []\n",
    "completeRing = []\n",
    "initialMuon = []\n",
    "initialNonMuon = []\n",
    "initialAmbiguous = []\n",
    "fileName = []"
   ]
  },
  {
   "cell_type": "markdown",
   "metadata": {},
   "source": [
    "## Extract annotation data\n",
    "Note that some care must be taken to ensure that expected data are present and supply a suitable null value otherwise. Zooniverse data dumps are not very intelligent!"
   ]
  },
  {
   "cell_type": "code",
   "execution_count": null,
   "metadata": {
    "jupyter": {
     "outputs_hidden": false
    }
   },
   "outputs": [],
   "source": [
    "for annotationsAndSubject in annotationsAndSubjects.iterrows() :\n",
    "    annotation = annotationsAndSubject[1].annotations\n",
    "    subjectData = json.loads(annotationsAndSubject[1].subject_data)\n",
    "    try:\n",
    "        subjectDatum = next(iter(subjectData.values()))\n",
    "        currentFileName = subjectDatum[list(subjectDatum.keys())[-1]]\n",
    "        if not currentFileName.endswith(\".jpeg\"):\n",
    "            print(currentFileName)\n",
    "    except KeyError as e:\n",
    "        pass\n",
    "\n",
    "    for task in annotation :\n",
    "        if 'T1' in task['task'] :\n",
    "            if 'value' in task and task['value'] is not None and 'Yes' not in task['value']:\n",
    "                subjectIds.append(int(annotationsAndSubject[1].subject_ids))\n",
    "                ringIndices.append(None)\n",
    "                ringPresent.append(False)\n",
    "                ringCentre.append((None, None))\n",
    "                ringRadius.append(None)\n",
    "                ringAngle.append(None)\n",
    "                containedRing.append(False)\n",
    "                completeRing.append(False)\n",
    "                parsedAnnotations.append(annotation)\n",
    "                fileName.append(currentFileName)\n",
    "                initialNonMuon.append('non_muon' in currentFileName)\n",
    "                initialMuon.append('muon' in currentFileName and not initialNonMuon[-1])\n",
    "                initialAmbiguous.append(not (initialMuon[-1] or initialNonMuon[-1]))\n",
    "                continue\n",
    "        elif 'T0' in task['task'] : # there must be a ring\n",
    "            for ringIndex, ringData in enumerate(task['value']) :\n",
    "                subjectIds.append(int(annotationsAndSubject[1].subject_ids))\n",
    "                ringIndices.append(ringIndex)\n",
    "                ringPresent.append(True)\n",
    "                ringCentre.append((ringData['x'] if 'x' in ringData else None, ringData['y'] if 'y' in ringData else None))\n",
    "                ringRadius.append(ringData['r'] if 'r' in ringData else None)\n",
    "                ringAngle.append(ringData['angle'] if 'angle' in ringData else None)\n",
    "                containedRing.append(None)\n",
    "                completeRing.append(None)\n",
    "                parsedAnnotations.append(annotation)\n",
    "                fileName.append(currentFileName)\n",
    "                initialNonMuon.append('non_muon' in currentFileName)\n",
    "                initialMuon.append('muon' in currentFileName and not initialNonMuon[-1])\n",
    "                initialAmbiguous.append(not (initialMuon[-1] or initialNonMuon[-1]))\n",
    "                for nestedTask in annotation :\n",
    "                    if 'T3' in nestedTask['task'] :\n",
    "                        containedRing[-1] = ('Yes' in nestedTask['value'])\n",
    "                    if 'T5' in nestedTask['task'] :\n",
    "                        completeRing[-1] = ('Yes' in nestedTask['value'])"
   ]
  },
  {
   "cell_type": "markdown",
   "metadata": {},
   "source": [
    "## Store extracted data\n",
    "Use a `pandas.DataFrame` since this makes subsequent manipulation more straightforward."
   ]
  },
  {
   "cell_type": "code",
   "execution_count": null,
   "metadata": {
    "jupyter": {
     "outputs_hidden": false
    }
   },
   "outputs": [],
   "source": [
    "classificationsFrame = pd.DataFrame({'subjectId' : subjectIds, \n",
    "                                     'ringIndex' : ringIndices, \n",
    "                                     'ringPresent' : ringPresent, \n",
    "                                     'ringCentreX' : [x for x, _ in ringCentre], \n",
    "                                     'ringCentreY' : [y for _, y in ringCentre],\n",
    "                                     'ringAngle' : ringAngle, \n",
    "                                     'ringRadius' : ringRadius,\n",
    "                                     'containedRing' : containedRing, \n",
    "                                     'completeRing' : completeRing, \n",
    "                                     'initialNonMuon' : initialNonMuon,\n",
    "                                     'initialMuon' : initialMuon,\n",
    "                                     'initialAmbiguous' : initialAmbiguous,\n",
    "                                     'fileName' : fileName,\n",
    "                                     'fullAnnotation': parsedAnnotations}).set_index('subjectId')\n",
    "display(classificationsFrame)"
   ]
  },
  {
   "cell_type": "markdown",
   "metadata": {},
   "source": [
    "# Plot some of the muon ring properties\n",
    "## First in SVG Space."
   ]
  },
  {
   "cell_type": "code",
   "execution_count": null,
   "metadata": {
    "jupyter": {
     "outputs_hidden": false
    }
   },
   "outputs": [],
   "source": [
    "withRingCut = classificationsFrame['ringPresent']\n",
    "withRingFigure = mplplot.figure(figsize=(12,4))\n",
    "\n",
    "ringCentreAxes = withRingFigure.add_subplot(1, 3, 1)\n",
    "ringCentreAxes = classificationsFrame[withRingCut].plot.hexbin(ax=ringCentreAxes, x='ringCentreX', y='ringCentreY', gridsize=20, cmap='viridis', sharex=False, norm=matplotlib.colors.LogNorm())\n",
    "ringCentreAxes.set_ylabel('Y (SVG Pixels)')\n",
    "ringCentreAxes.set_xlabel('X (SVG Pixels)')\n",
    "ringCentreAxes.set_title('Ring centre coordinates\\n(SVG Canvas Space)')\n",
    "\n",
    "ringRadiusAxes = withRingFigure.add_subplot(1, 3, 2)\n",
    "ringRadiusAxes = classificationsFrame[withRingCut].ringRadius.plot.hist(ax=ringRadiusAxes, bins=100, histtype='step', fill=True, alpha=0.2, color='r', facecolor='r')\n",
    "ringRadiusAxes.set_ylabel('Entries')\n",
    "ringRadiusAxes.set_xlabel('Radius (SVG Pixels)')\n",
    "ringRadiusAxes.set_title('Ring Radii\\n(SVG Canvas Space)')\n",
    "\n",
    "ringAngleAxes = withRingFigure.add_subplot(1, 3, 3)\n",
    "ringAngleAxes = classificationsFrame[withRingCut].ringAngle.plot.hist(ax=ringAngleAxes, bins=100, range=(-180, 180),histtype='step', fill=True, alpha=0.2, color='b', facecolor='b')\n",
    "ringAngleAxes.set_ylabel('Entries')\n",
    "ringAngleAxes.set_xlabel('Angle (Degrees)')\n",
    "ringAngleAxes.set_title('Ring Angles')\n",
    "\n",
    "mplplot.tight_layout()"
   ]
  },
  {
   "cell_type": "markdown",
   "metadata": {},
   "source": [
    "## Now in angular camera coordinates"
   ]
  },
  {
   "cell_type": "code",
   "execution_count": null,
   "metadata": {
    "jupyter": {
     "outputs_hidden": true
    }
   },
   "outputs": [],
   "source": [
    "class SVGToVERITASCamera :\n",
    "    \n",
    "    defaultCameraCentreSVG = (1050, 1050)\n",
    "    # vertex-to-vertex diameter\n",
    "    defaultPixelV2VDiameterSVG = 75\n",
    "    defaultPixelV2VDiameterDegrees = 0.144\n",
    "    # face-to-face diameter\n",
    "    defaultPixelF2FDiameterSVG = 60\n",
    "    # camera dimensions\n",
    "    defaultCameraWidthSVG = 1620\n",
    "    defaultCameraHeightSVG = 1640\n",
    "    \n",
    "    \n",
    "    def __init__(self) :\n",
    "        self.svgPixelsPerDegree = SVGToVERITASCamera.defaultPixelV2VDiameterSVG/SVGToVERITASCamera.defaultPixelV2VDiameterDegrees\n",
    "    \n",
    "    def mapSVGPixelCoordsToDegrees(self, coordinates) :\n",
    "        return ((coordinates[0] - SVGToVERITASCamera.defaultCameraCentreSVG[0]/2)/self.svgPixelsPerDegree,\n",
    "                (coordinates[1] - SVGToVERITASCamera.defaultCameraCentreSVG[1]/2)/self.svgPixelsPerDegree)\n",
    "    \n",
    "    def mapSVGPixelLengthToDegrees(self, length) :\n",
    "        return length/self.svgPixelsPerDegree\n",
    "    \n",
    "    # TODO: Add more mappings as required"
   ]
  },
  {
   "cell_type": "code",
   "execution_count": null,
   "metadata": {
    "jupyter": {
     "outputs_hidden": false
    }
   },
   "outputs": [],
   "source": [
    "coordMapper = SVGToVERITASCamera()\n",
    "# I dare you to try and work out what's happening here!\n",
    "mappedX, mappedY, mappedR = zip(*tuple([tuple([*coordMapper.mapSVGPixelCoordsToDegrees(coords), coordMapper.mapSVGPixelLengthToDegrees(radius)]) for coords, radius in zip(zip(classificationsFrame.ringCentreX, classificationsFrame.ringCentreY),classificationsFrame.ringRadius)]))"
   ]
  },
  {
   "cell_type": "code",
   "execution_count": null,
   "metadata": {
    "jupyter": {
     "outputs_hidden": false
    }
   },
   "outputs": [],
   "source": [
    "classificationsFrame['ringCentreXDeg'] = mappedX\n",
    "classificationsFrame['ringCentreYDeg'] = mappedY\n",
    "classificationsFrame['ringRadiusDeg'] = mappedR\n",
    "display(classificationsFrame)"
   ]
  },
  {
   "cell_type": "code",
   "execution_count": null,
   "metadata": {
    "jupyter": {
     "outputs_hidden": false
    }
   },
   "outputs": [],
   "source": [
    "withRingFigure = mplplot.figure(figsize=(12,4))\n",
    "\n",
    "ringCentreAxes = withRingFigure.add_subplot(1, 3, 1)\n",
    "ringCentreAxes = classificationsFrame[withRingCut].plot.hexbin(ax=ringCentreAxes, x='ringCentreXDeg', y='ringCentreYDeg', gridsize=20, cmap='viridis', sharex=False, norm=matplotlib.colors.LogNorm())\n",
    "ringCentreAxes.set_ylabel('Y (Degrees)')\n",
    "ringCentreAxes.set_xlabel('X (Degrees)')\n",
    "ringCentreAxes.set_title('Ring centre coordinates\\n(Angular Space)')\n",
    "\n",
    "ringRadiusAxes = withRingFigure.add_subplot(1, 3, 2)\n",
    "ringRadiusAxes = classificationsFrame[withRingCut].ringRadiusDeg.plot.hist(ax=ringRadiusAxes, bins=100, histtype='step', fill=True, alpha=0.2, color='r', facecolor='r')\n",
    "ringRadiusAxes.set_ylabel('Entries')\n",
    "ringRadiusAxes.set_xlabel('Radius (Degrees)')\n",
    "ringRadiusAxes.set_title('Ring Radii\\n(Angular Space)')\n",
    "\n",
    "ringAngleAxes = withRingFigure.add_subplot(1, 3, 3)\n",
    "ringAngleAxes = classificationsFrame[withRingCut].ringAngle.plot.hist(ax=ringAngleAxes, bins=100, range=(-180, 180),histtype='step', fill=True, alpha=0.2, color='b', facecolor='b')\n",
    "ringAngleAxes.set_ylabel('Entries')\n",
    "ringAngleAxes.set_xlabel('Angle (Degrees)')\n",
    "ringAngleAxes.set_title('Ring Angles')\n",
    "\n",
    "mplplot.tight_layout()"
   ]
  },
  {
   "cell_type": "markdown",
   "metadata": {},
   "source": [
    "## Check whether volunteers agree with automatic classification"
   ]
  },
  {
   "cell_type": "code",
   "execution_count": null,
   "metadata": {
    "jupyter": {
     "outputs_hidden": false
    }
   },
   "outputs": [],
   "source": [
    "agreementFigure = mplplot.figure(figsize=(12,4))\n",
    "\n",
    "nonMuonAxes = agreementFigure.add_subplot(1, 3, 2)\n",
    "nonMuonAxes = classificationsFrame[classificationsFrame['initialNonMuon']].ringPresent.astype(int).plot.hist(ax=nonMuonAxes, fill=True, alpha=0.2, color='r', facecolor='r')\n",
    "nonMuonAxes.set_ylabel('Entries')\n",
    "nonMuonAxes.set_xlabel('Ring Present')\n",
    "nonMuonAxes.set_title('Initial Non-Muons')\n",
    "\n",
    "muonAxes = agreementFigure.add_subplot(1, 3, 1)\n",
    "muonAxes = classificationsFrame[classificationsFrame['initialMuon']].ringPresent.astype(int).plot.hist(ax=muonAxes, fill=True, alpha=0.2, color='g', facecolor='g')\n",
    "muonAxes.set_ylabel('Entries')\n",
    "muonAxes.set_xlabel('Ring Present')\n",
    "muonAxes.set_title('Initial Muons')\n",
    "\n",
    "ambiguousAxes = agreementFigure.add_subplot(1, 3, 3)\n",
    "ambiguousAxes = classificationsFrame[classificationsFrame['initialAmbiguous']].ringPresent.astype(int).plot.hist(ax=ambiguousAxes, fill=True, alpha=0.2, color='b', facecolor='b')\n",
    "ambiguousAxes.set_ylabel('Entries')\n",
    "ambiguousAxes.set_xlabel('Ring Present')\n",
    "ambiguousAxes.set_title('Initial Ambiguous')\n",
    "\n",
    "mplplot.tight_layout()"
   ]
  },
  {
   "cell_type": "markdown",
   "metadata": {},
   "source": [
    "## Do some simple aggregation\n",
    "We'll plot some aggregated volunteer annotations over the images"
   ]
  },
  {
   "cell_type": "code",
   "execution_count": null,
   "metadata": {},
   "outputs": [],
   "source": [
    "subjectMeans = classificationsFrame.groupby(by=\"subjectId\")[[\"ringPresent\", \"ringRadius\", \"ringCentreX\", \"ringCentreY\"]].mean()"
   ]
  },
  {
   "cell_type": "markdown",
   "metadata": {},
   "source": [
    "Find some examples wehere at least 80% of volunteers marked a ring."
   ]
  },
  {
   "cell_type": "code",
   "execution_count": null,
   "metadata": {},
   "outputs": [],
   "source": [
    "markedMuonSubjects = [Subject.find(sid) for sid in subjectMeans[subjectMeans.ringPresent > 0.8].index[:16]]"
   ]
  },
  {
   "cell_type": "code",
   "execution_count": null,
   "metadata": {},
   "outputs": [],
   "source": [
    "fig, panels = mplplot.subplots(figsize=(16, 16), nrows=4, ncols=4)\n",
    "\n",
    "for subject, panel in zip(markedMuonSubjects, panels.flatten()):\n",
    "    panel.imshow(mplplot.imread(list(subject.locations[0].values())[0],format=\"jpeg\"))\n",
    "    ring = matplotlib.patches.Circle((subjectMeans.loc[int(subject.id)].ringCentreX, \n",
    "                                     subjectMeans.loc[int(subject.id)].ringCentreY), \n",
    "                                     subjectMeans.loc[int(subject.id)].ringRadius, \n",
    "                                     fc=\"none\", \n",
    "                                     ec=\"magenta\", \n",
    "                                     lw=3)\n",
    "    panel.set_title(subject.id)\n",
    "    panel.add_patch(ring)"
   ]
  },
  {
   "cell_type": "code",
   "execution_count": null,
   "metadata": {},
   "outputs": [],
   "source": []
  },
  {
   "cell_type": "code",
   "execution_count": null,
   "metadata": {},
   "outputs": [],
   "source": []
  }
 ],
 "metadata": {
  "kernelspec": {
   "display_name": "Python 3",
   "language": "python",
   "name": "python3"
  },
  "language_info": {
   "codemirror_mode": {
    "name": "ipython",
    "version": 3
   },
   "file_extension": ".py",
   "mimetype": "text/x-python",
   "name": "python",
   "nbconvert_exporter": "python",
   "pygments_lexer": "ipython3",
   "version": "3.7.10"
  },
  "toc": {
   "nav_menu": {
    "height": "120px",
    "width": "252px"
   },
   "navigate_menu": true,
   "number_sections": true,
   "sideBar": false,
   "threshold": 4,
   "toc_cell": true,
   "toc_section_display": "block",
   "toc_window_display": false
  }
 },
 "nbformat": 4,
 "nbformat_minor": 4
}
