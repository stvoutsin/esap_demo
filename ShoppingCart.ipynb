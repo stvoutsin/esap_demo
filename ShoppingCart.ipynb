{
 "cells": [
  {
   "cell_type": "markdown",
   "id": "grave-literacy",
   "metadata": {},
   "source": [
    "# Example notebook using the ESAP Shopping cart\n",
    "\n",
    "This is an example of using the esap client to fetch data from the ESAP Shopping cart"
   ]
  },
  {
   "cell_type": "code",
   "execution_count": 1,
   "id": "damaged-radius",
   "metadata": {},
   "outputs": [],
   "source": [
    "from shopping_client import shopping_client\n"
   ]
  },
  {
   "cell_type": "code",
   "execution_count": null,
   "id": "running-yellow",
   "metadata": {},
   "outputs": [],
   "source": [
    "# Connect to the Shopping Basket (ESAP API)\n",
    "shoppingClient = shopping_client(host=\"https://sdc-dev.astron.nl:5555/\")"
   ]
  },
  {
   "cell_type": "code",
   "execution_count": null,
   "id": "parental-statistics",
   "metadata": {},
   "outputs": [],
   "source": [
    "# Get the items in the shopping basket\n",
    "basket = shoppingClient.get_basket()\n",
    "basket"
   ]
  }
 ],
 "metadata": {
  "kernelspec": {
   "display_name": "Python 3",
   "language": "python",
   "name": "python3"
  },
  "language_info": {
   "codemirror_mode": {
    "name": "ipython",
    "version": 3
   },
   "file_extension": ".py",
   "mimetype": "text/x-python",
   "name": "python",
   "nbconvert_exporter": "python",
   "pygments_lexer": "ipython3",
   "version": "3.7.10"
  }
 },
 "nbformat": 4,
 "nbformat_minor": 5
}
